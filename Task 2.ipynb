{
 "cells": [
  {
   "cell_type": "markdown",
   "id": "0bf2640c",
   "metadata": {},
   "source": [
    "## Check out the dashboard here! http://127.0.0.1:8050/\n"
   ]
  },
  {
   "cell_type": "code",
   "execution_count": 1,
   "id": "45bb4664",
   "metadata": {},
   "outputs": [],
   "source": [
    "import pandas as pd\n",
    "import dash\n",
    "from dash import dcc, html\n",
    "from dash.dependencies import Input, Output\n",
    "import plotly.express as px"
   ]
  },
  {
   "cell_type": "code",
   "execution_count": 2,
   "id": "990999ea",
   "metadata": {},
   "outputs": [],
   "source": [
    "df = pd.read_csv(r\"C:\\Users\\rianp03\\Downloads\\LuxuryLoanPortfolio.csv\")\n",
    "df[\"funded_date\"] = pd.to_datetime(df[\"funded_date\"], errors=\"coerce\")\n",
    "df = df.dropna(subset=[\"funded_date\"])\n",
    "df[\"funded_year\"] = df[\"funded_date\"].dt.year"
   ]
  },
  {
   "cell_type": "code",
   "execution_count": 3,
   "id": "0d3ba60b",
   "metadata": {},
   "outputs": [],
   "source": [
    "def df_summary(df):\n",
    "    summary = { \"Total Loan Balance\": df[\"loan balance\"].sum(),\n",
    "                \"Total Funded Amount\" : df[\"funded_amount\"].sum(),\n",
    "                \"Avg Interest Rate\" : df[\"interest rate\"].mean(),\n",
    "                \"Total Borrowers\": df[\"borrower_id\"].nunique() if \"borrower_id\" in df.columns else len(df)\n",
    "               }\n",
    "    return summary\n",
    "\n",
    "def bar_chart(df):\n",
    "    return df.groupby(\"purpose\", as_index=False)[\"funded_amount\"].sum()\n",
    "\n",
    "def pie_chart(df):\n",
    "    return df[\"BUILDING CLASS CATEGORY\"].value_counts().reset_index().rename(\n",
    "        columns={\"index\": \"Category\", \"BUILDING CLASS CATEGORY\": \"Count\"}\n",
    "        )\n",
    "\n",
    "def line_chart(df):\n",
    "    monthly_balance = (\n",
    "        df.groupby(df[\"funded_date\"].dt.to_period(\"M\"))[\"loan balance\"].sum().reset_index()\n",
    "    )\n",
    "    monthly_balance[\"funded_date\"] = monthly_balance[\"funded_date\"].astype(str)\n",
    "    return monthly_balance\n"
   ]
  },
  {
   "cell_type": "code",
   "execution_count": 4,
   "id": "88e99ca4",
   "metadata": {},
   "outputs": [],
   "source": [
    "def make_card(title, value, decimals=0):\n",
    "    fmt = f\"{{:,.{decimals}f}}\"\n",
    "    return html.Div([\n",
    "        html.H4(title, style={\"marginBottom\": \"5px\", \"color\": \"#888\"}),\n",
    "        html.H2(fmt.format(value), style={\"margin\": 0, \"color\": \"#333\"})\n",
    "    ], style={\n",
    "        \"padding\": \"20px\",\n",
    "        \"margin\": \"10px\",\n",
    "        \"backgroundColor\": \"white\",\n",
    "        \"boxShadow\": \"0 2px 6px rgba(0,0,0,0.1)\",\n",
    "        \"flex\": \"1\",\n",
    "        \"textAlign\": \"center\"\n",
    "    })"
   ]
  },
  {
   "cell_type": "code",
   "execution_count": 5,
   "id": "97ed13b0",
   "metadata": {},
   "outputs": [],
   "source": [
    "app = dash.Dash(__name__)\n",
    "app.title = \"Luxury Loan Dashboard\"\n",
    "\n",
    "app.layout = html.Div([\n",
    "    html.H1(\"Luxury Loan Portfolio Dashboard\", style={\"textAlign\": \"center\"}),\n",
    "    html.Div(id=\"summary_cards\", style={\"display\": \"flex\", \"flexWarp\": \"warp\"}),\n",
    "\n",
    "    html.Div([\n",
    "        html.Div([\n",
    "            html.Label(\"Year: \"),\n",
    "            dcc.Dropdown(\n",
    "                id=\"year_filter\",\n",
    "                options=[{\"label\": y, \"value\": y} for y in sorted(df[\"funded_year\"].unique())],\n",
    "                value=None,\n",
    "                multi=False,\n",
    "                placeholder=\"Select Year\"\n",
    "            ),\n",
    "        ], style={\"width\": \"45%\", \"display\": \"inline-block\"}),\n",
    "\n",
    "        html.Div([\n",
    "            html.Label(\"City: \"),\n",
    "            dcc.Dropdown(\n",
    "                id=\"city_filter\",\n",
    "                options=[{\"label\": c, \"value\": c} for c in sorted(df[\"CITY\"].unique())],\n",
    "                value=None,\n",
    "                multi=False,\n",
    "                placeholder=\"Select City\"              \n",
    "            ),\n",
    "        ], style={\"width\": \"45%\", \"display\": \"inline-block\", \"marginLeft\": \"5%\"}),\n",
    "        ], style={\"marginBottom\": \"20px\", \"marginTop\": \"20px\"}),\n",
    "\n",
    "    html.Div([\n",
    "        dcc.Graph(id=\"line_chart\", style={\"width\": \"55%\", \"display\": \"inline-block\", \"height\" : \"400px\"}),\n",
    "        dcc.Graph(id=\"donut_chart\", style={\"width\": \"60%\", \"display\": \"inline-block\", \"height\" : \"400px\", \"marginLeft\": \"2%\"}),\n",
    "    ], style={\"display\": \"flex\", \"justifyContent\": \"space-between\"}),\n",
    "\n",
    "\n",
    "    dcc.Graph(id=\"bar_chart\", style={\"width\": \"100%\", \"height\" : \"400px\"}),\n",
    "\n",
    "\n",
    "], style={\"fontFamily\": \"Arial\", \"backgroundColor\": \"#E0E4E7\", \"padding\": \"20px\", \"maxWidth\": \"1600px\", \"height\": \"900px\", \"margin\": \"0 auto\"})\n"
   ]
  },
  {
   "cell_type": "code",
   "execution_count": 6,
   "id": "d57a3572",
   "metadata": {},
   "outputs": [],
   "source": [
    "@app.callback(\n",
    "    [Output(\"summary_cards\", \"children\"),\n",
    "     Output(\"line_chart\", \"figure\"),\n",
    "     Output(\"donut_chart\", \"figure\"),\n",
    "     Output(\"bar_chart\", \"figure\")],\n",
    "    [Input(\"year_filter\", \"value\"),\n",
    "    Input(\"city_filter\", \"value\")]\n",
    ")\n",
    "\n",
    "def dashboard(selected_year, selected_city):\n",
    "    dff = df.copy()\n",
    "\n",
    "    if selected_year:\n",
    "        dff = dff[dff[\"funded_year\"] == selected_year]\n",
    "    if selected_city:\n",
    "        dff = dff[dff[\"CITY\"] == selected_city]\n",
    "    \n",
    "    summary = df_summary(dff)\n",
    "    cards = [\n",
    "        make_card(\"Total Loan Balance\", summary[\"Total Loan Balance\"]),\n",
    "        make_card(\"Total Funded Amount\", summary[\"Total Funded Amount\"]),\n",
    "        make_card(\"Avg Interest Rate\", summary[\"Avg Interest Rate\"], decimals=3),\n",
    "        make_card(\"Total Borrowers\", summary[\"Total Borrowers\"]),\n",
    "        ]\n",
    "    \n",
    "\n",
    "    ## chart 1 : loan balance trend\n",
    "    chart1 = px.line(line_chart(dff), x=\"funded_date\", y=\"loan balance\",\n",
    "                title=\"Loan Balance Trend Over Time\")\n",
    "    chart1.update_traces(hovertemplate=\"%{x}: %{y:,.0f}\")\n",
    "\n",
    "    ## chart 2 : building class category\n",
    "    chart2 = px.pie(pie_chart(dff), names=\"Category\", values=\"Count\",\n",
    "              title=\"Building Class Category Distribution\",\n",
    "              hole=0.4)\n",
    "    chart2.update_traces(hovertemplate=\"%{label}: %{value:, }\")\n",
    "\n",
    "    ## chart 3 : funded amount by purpose\n",
    "    chart3 = px.bar(bar_chart(dff), x=\"purpose\", y=\"funded_amount\",\n",
    "              title=\"Total Funded Amount by Purpose\")\n",
    "    chart3.update_traces(hovertemplate=\"%{x}: %{y:,.0f}\")\n",
    "\n",
    "    return cards, chart1, chart2, chart3\n"
   ]
  },
  {
   "cell_type": "code",
   "execution_count": null,
   "id": "4bc1af2e",
   "metadata": {},
   "outputs": [
    {
     "data": {
      "text/html": [
       "\n",
       "        <iframe\n",
       "            width=\"100%\"\n",
       "            height=\"650\"\n",
       "            src=\"http://127.0.0.1:8050/\"\n",
       "            frameborder=\"0\"\n",
       "            allowfullscreen\n",
       "            \n",
       "        ></iframe>\n",
       "        "
      ],
      "text/plain": [
       "<IPython.lib.display.IFrame at 0x1d94fcffe50>"
      ]
     },
     "metadata": {},
     "output_type": "display_data"
    }
   ],
   "source": [
    "if __name__ == \"__main__\":\n",
    "    app.run(debug=True)"
   ]
  }
 ],
 "metadata": {
  "kernelspec": {
   "display_name": "Python 3",
   "language": "python",
   "name": "python3"
  },
  "language_info": {
   "codemirror_mode": {
    "name": "ipython",
    "version": 3
   },
   "file_extension": ".py",
   "mimetype": "text/x-python",
   "name": "python",
   "nbconvert_exporter": "python",
   "pygments_lexer": "ipython3",
   "version": "3.10.2"
  }
 },
 "nbformat": 4,
 "nbformat_minor": 5
}
